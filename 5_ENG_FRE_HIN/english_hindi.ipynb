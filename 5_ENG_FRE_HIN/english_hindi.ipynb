{
 "cells": [
  {
   "cell_type": "code",
   "execution_count": 1,
   "metadata": {},
   "outputs": [],
   "source": [
    "import numpy as np\n",
    "import pandas as pd\n",
    "import tensorflow as tf\n",
    "import random\n",
    "import json\n",
    "import re"
   ]
  },
  {
   "cell_type": "code",
   "execution_count": 2,
   "metadata": {},
   "outputs": [],
   "source": [
    "from utils import tf_lower_and_split_punct,tf_lower_and_split_punct_1"
   ]
  },
  {
   "cell_type": "code",
   "execution_count": 3,
   "metadata": {},
   "outputs": [],
   "source": [
    "df = pd.read_csv('data/english_hindi.csv',index_col=0)"
   ]
  },
  {
   "cell_type": "code",
   "execution_count": 4,
   "metadata": {},
   "outputs": [
    {
     "name": "stdout",
     "output_type": "stream",
     "text": [
      "64131\n"
     ]
    },
    {
     "data": {
      "text/html": [
       "<div>\n",
       "<style scoped>\n",
       "    .dataframe tbody tr th:only-of-type {\n",
       "        vertical-align: middle;\n",
       "    }\n",
       "\n",
       "    .dataframe tbody tr th {\n",
       "        vertical-align: top;\n",
       "    }\n",
       "\n",
       "    .dataframe thead th {\n",
       "        text-align: right;\n",
       "    }\n",
       "</style>\n",
       "<table border=\"1\" class=\"dataframe\">\n",
       "  <thead>\n",
       "    <tr style=\"text-align: right;\">\n",
       "      <th></th>\n",
       "      <th>English</th>\n",
       "      <th>Hindi</th>\n",
       "    </tr>\n",
       "  </thead>\n",
       "  <tbody>\n",
       "    <tr>\n",
       "      <th>0</th>\n",
       "      <td>To give adequate medical cover and to carry ou...</td>\n",
       "      <td>यहीं के पशुओं के स्वास्थ्य-सुधार तथा पशु-पालन ...</td>\n",
       "    </tr>\n",
       "    <tr>\n",
       "      <th>1</th>\n",
       "      <td>and she is not dazzled by anything.”</td>\n",
       "      <td>और किसी से प्रभावित नहीं होती।”</td>\n",
       "    </tr>\n",
       "    <tr>\n",
       "      <th>2</th>\n",
       "      <td>The Ter temple now containing a Trivikrama ima...</td>\n",
       "      <td>तेर के मंदिर में अब तक एक त्रिविक्रम की मूर्ति...</td>\n",
       "    </tr>\n",
       "    <tr>\n",
       "      <th>3</th>\n",
       "      <td>Which is(Lodurva Jain Temple)attract the big n...</td>\n",
       "      <td>के लिए जाना जाता है जो वर्ष भर तीर्थयात्राओं क...</td>\n",
       "    </tr>\n",
       "    <tr>\n",
       "      <th>4</th>\n",
       "      <td>monotheism</td>\n",
       "      <td>अद्वैतवाद</td>\n",
       "    </tr>\n",
       "  </tbody>\n",
       "</table>\n",
       "</div>"
      ],
      "text/plain": [
       "                                             English  \\\n",
       "0  To give adequate medical cover and to carry ou...   \n",
       "1               and she is not dazzled by anything.”   \n",
       "2  The Ter temple now containing a Trivikrama ima...   \n",
       "3  Which is(Lodurva Jain Temple)attract the big n...   \n",
       "4                                         monotheism   \n",
       "\n",
       "                                               Hindi  \n",
       "0  यहीं के पशुओं के स्वास्थ्य-सुधार तथा पशु-पालन ...  \n",
       "1                    और किसी से प्रभावित नहीं होती।”  \n",
       "2  तेर के मंदिर में अब तक एक त्रिविक्रम की मूर्ति...  \n",
       "3  के लिए जाना जाता है जो वर्ष भर तीर्थयात्राओं क...  \n",
       "4                                          अद्वैतवाद  "
      ]
     },
     "execution_count": 4,
     "metadata": {},
     "output_type": "execute_result"
    }
   ],
   "source": [
    "print(len(df))\n",
    "df.head()"
   ]
  },
  {
   "cell_type": "code",
   "execution_count": null,
   "metadata": {},
   "outputs": [],
   "source": []
  },
  {
   "cell_type": "code",
   "execution_count": 5,
   "metadata": {},
   "outputs": [
    {
     "data": {
      "text/html": [
       "<div>\n",
       "<style scoped>\n",
       "    .dataframe tbody tr th:only-of-type {\n",
       "        vertical-align: middle;\n",
       "    }\n",
       "\n",
       "    .dataframe tbody tr th {\n",
       "        vertical-align: top;\n",
       "    }\n",
       "\n",
       "    .dataframe thead th {\n",
       "        text-align: right;\n",
       "    }\n",
       "</style>\n",
       "<table border=\"1\" class=\"dataframe\">\n",
       "  <thead>\n",
       "    <tr style=\"text-align: right;\">\n",
       "      <th></th>\n",
       "      <th>English</th>\n",
       "      <th>Hindi</th>\n",
       "    </tr>\n",
       "  </thead>\n",
       "  <tbody>\n",
       "  </tbody>\n",
       "</table>\n",
       "</div>"
      ],
      "text/plain": [
       "Empty DataFrame\n",
       "Columns: [English, Hindi]\n",
       "Index: []"
      ]
     },
     "execution_count": 5,
     "metadata": {},
     "output_type": "execute_result"
    }
   ],
   "source": [
    "df[df.isnull().any(axis = 1)]"
   ]
  },
  {
   "cell_type": "code",
   "execution_count": 6,
   "metadata": {},
   "outputs": [
    {
     "data": {
      "text/html": [
       "<div>\n",
       "<style scoped>\n",
       "    .dataframe tbody tr th:only-of-type {\n",
       "        vertical-align: middle;\n",
       "    }\n",
       "\n",
       "    .dataframe tbody tr th {\n",
       "        vertical-align: top;\n",
       "    }\n",
       "\n",
       "    .dataframe thead th {\n",
       "        text-align: right;\n",
       "    }\n",
       "</style>\n",
       "<table border=\"1\" class=\"dataframe\">\n",
       "  <thead>\n",
       "    <tr style=\"text-align: right;\">\n",
       "      <th></th>\n",
       "      <th>English</th>\n",
       "      <th>Hindi</th>\n",
       "    </tr>\n",
       "  </thead>\n",
       "  <tbody>\n",
       "    <tr>\n",
       "      <th>0</th>\n",
       "      <td>To give adequate medical cover and to carry ou...</td>\n",
       "      <td>यहीं के पशुओं के स्वास्थ्य-सुधार तथा पशु-पालन ...</td>\n",
       "    </tr>\n",
       "    <tr>\n",
       "      <th>1</th>\n",
       "      <td>and she is not dazzled by anything.”</td>\n",
       "      <td>और किसी से प्रभावित नहीं होती।”</td>\n",
       "    </tr>\n",
       "    <tr>\n",
       "      <th>2</th>\n",
       "      <td>The Ter temple now containing a Trivikrama ima...</td>\n",
       "      <td>तेर के मंदिर में अब तक एक त्रिविक्रम की मूर्ति...</td>\n",
       "    </tr>\n",
       "    <tr>\n",
       "      <th>3</th>\n",
       "      <td>Which is(Lodurva Jain Temple)attract the big n...</td>\n",
       "      <td>के लिए जाना जाता है जो वर्ष भर तीर्थयात्राओं क...</td>\n",
       "    </tr>\n",
       "    <tr>\n",
       "      <th>4</th>\n",
       "      <td>monotheism</td>\n",
       "      <td>अद्वैतवाद</td>\n",
       "    </tr>\n",
       "  </tbody>\n",
       "</table>\n",
       "</div>"
      ],
      "text/plain": [
       "                                             English  \\\n",
       "0  To give adequate medical cover and to carry ou...   \n",
       "1               and she is not dazzled by anything.”   \n",
       "2  The Ter temple now containing a Trivikrama ima...   \n",
       "3  Which is(Lodurva Jain Temple)attract the big n...   \n",
       "4                                         monotheism   \n",
       "\n",
       "                                               Hindi  \n",
       "0  यहीं के पशुओं के स्वास्थ्य-सुधार तथा पशु-पालन ...  \n",
       "1                    और किसी से प्रभावित नहीं होती।”  \n",
       "2  तेर के मंदिर में अब तक एक त्रिविक्रम की मूर्ति...  \n",
       "3  के लिए जाना जाता है जो वर्ष भर तीर्थयात्राओं क...  \n",
       "4                                          अद्वैतवाद  "
      ]
     },
     "execution_count": 6,
     "metadata": {},
     "output_type": "execute_result"
    }
   ],
   "source": [
    "df.head()"
   ]
  },
  {
   "cell_type": "code",
   "execution_count": 7,
   "metadata": {},
   "outputs": [],
   "source": [
    "# df.drop(df.index[indexes],axis = 0,inplace = True)\n",
    "indexes = df[df['Hindi'].apply(lambda x:True if (len(x)<=2) or (re.compile('^[\\w\\s\\.,0-9]+$',re.ASCII).findall(x)) else False)].index\n",
    "df.drop(df.index[indexes],axis =0,inplace = True)\n"
   ]
  },
  {
   "cell_type": "code",
   "execution_count": 8,
   "metadata": {},
   "outputs": [
    {
     "name": "stdout",
     "output_type": "stream",
     "text": [
      "English    False\n",
      "Hindi      False\n",
      "dtype: bool\n"
     ]
    }
   ],
   "source": [
    "df.dropna(inplace = True)\n",
    "print(df.isnull().any())"
   ]
  },
  {
   "cell_type": "code",
   "execution_count": null,
   "metadata": {},
   "outputs": [],
   "source": [
    "\n"
   ]
  },
  {
   "cell_type": "markdown",
   "metadata": {},
   "source": [
    "my_list = list(df['Hindi'].apply(lambda x: re.findall('[a-zA-HJ-Z]+',x.strip(',').strip('!').strip('.').strip('?').strip('I'))))\n",
    "print('rows that contain english alphabets in Hindi: ',len([x for x in my_list if len(x)]))\n",
    "indexes = []\n",
    "for i,j in enumerate(my_list):\n",
    "    if len(j):\n",
    "        indexes.append(i)\n",
    "\n",
    "df.drop(df.index[indexes],axis = 0,inplace = True)\n",
    "\n",
    "my_list = list(df['Hindi'].apply(lambda x: re.findall('[a-zA-HJ-Z]+',x)))\n",
    "print('rows that contain english alphabets after droping in Hindi: ',len([x for x in my_list if len(x)]))\n"
   ]
  },
  {
   "cell_type": "code",
   "execution_count": 9,
   "metadata": {},
   "outputs": [
    {
     "name": "stdout",
     "output_type": "stream",
     "text": [
      "[('According to section 79 central parliament has two important houses other than president Rajasabha of the state and Loksabha,of the people.', 'भारत के संविधान की धारा 79 के अनुसार केन्द्रीय संसद की परिषद् में राष्ट्रपति तथा दो सदन है जिन्हें राज्यों की परिषद् राज्यसभा तथा लोगों का सदन लोकसभा के नाम से जाना जाता है।'), ('taluqadars', 'तालुकदार'), ('Nepal(a democratic republic) is a South Asian Himalayan Country.', 'नेपाल (आधिकारिक रूप में संघीय लोकतान्त्रिक गणराज्य नेपाल) ( ) एक दक्षिण एशियाई भूपरिवेष्ठित हिमालयी राष्ट्र है।'), ('witnessing ahswathama', 'साक्षी अश्वत्थामा'), ('solved everything in 20 minutes.', 'सारे सवाल 20 मिनट में हल कर दिए.')]\n"
     ]
    }
   ],
   "source": [
    "text_pairs =list(zip(df['English'],df['Hindi']))\n",
    "random.seed(42)\n",
    "random.shuffle(text_pairs)\n",
    "print(text_pairs[:5])"
   ]
  },
  {
   "cell_type": "code",
   "execution_count": 10,
   "metadata": {},
   "outputs": [
    {
     "name": "stdout",
     "output_type": "stream",
     "text": [
      "63999 total pairs\n",
      "57600 training pairs\n",
      "6399 validation pairs\n"
     ]
    }
   ],
   "source": [
    "num_val_samples = int(0.1 * len(text_pairs))\n",
    "num_train_samples = len(text_pairs) -  num_val_samples\n",
    "train_pairs = text_pairs[:num_train_samples]\n",
    "val_pairs = text_pairs[num_train_samples:]\n",
    "# test_pairs = text_pairs[num_train_samples+num_val_samples:]\n",
    "\n",
    "print(f\"{len(text_pairs)} total pairs\")\n",
    "print(f\"{len(train_pairs)} training pairs\")\n",
    "print(f\"{len(val_pairs)} validation pairs\")\n",
    "# print(f'{len(test_pairs)} test pairs')"
   ]
  },
  {
   "cell_type": "markdown",
   "metadata": {},
   "source": [
    "#### approx vocab size"
   ]
  },
  {
   "cell_type": "code",
   "execution_count": 11,
   "metadata": {},
   "outputs": [
    {
     "name": "stdout",
     "output_type": "stream",
     "text": [
      "approx english vocab: 55726\n",
      "approx hindi vocab: 62726\n"
     ]
    }
   ],
   "source": [
    "list1 = list(df['English'])\n",
    "list1 = [word.strip().strip('!').strip('.').strip(',').strip('?').lower() for sentence in list1 for word in sentence.split(' ') if len(word)]\n",
    "\n",
    "print('approx english vocab:',len(set(list1)))\n",
    "\n",
    "list2 = list(df['Hindi'])\n",
    "list2 = [word.strip('!').strip('.').strip(',').strip('?') for sentence in list2 for word in sentence.split(' ')]\n",
    "print('approx hindi vocab:',len(set(list2)))"
   ]
  },
  {
   "cell_type": "code",
   "execution_count": 12,
   "metadata": {},
   "outputs": [
    {
     "name": "stdout",
     "output_type": "stream",
     "text": [
      "55726\n"
     ]
    }
   ],
   "source": [
    "list1 = list(set(list1))\n",
    "print(len(list1))"
   ]
  },
  {
   "cell_type": "code",
   "execution_count": 13,
   "metadata": {},
   "outputs": [
    {
     "name": "stdout",
     "output_type": "stream",
     "text": [
      "['bharatam-', 'whales', 'published:istory', 'farce', 'micro-decisions', '“”freedom“”', 'mahboobnagar', 'basanta', 'occult', 'tilling']\n",
      "['cortisol', 'currently', 'despicable', '2006)', 'dropadi', 'shatrughan', '2912kms', 'pro-poor', 'profitability', \"wassalam's\"]\n",
      "['bi-monthly', 'isolation', 'wicket-keeper', 'personalized', 'pawar', 'language,caste', 'chapati', 'viruses', 'disband', 'non-muslim']\n",
      "['bowl', 'freemasons', 'miles-long', 'rosogulla', 'vir', 'evenly', 'parliamentarian', 'saunaka', 'dizygotic', 'pecked']\n",
      "['ingeniousness', 'polls', 'narrating', 'panthas', 'permanent', 'revering', 'espo', 'yaminaddaula', 'foursome.”', 'consul']\n",
      "['opportunities', 'bonds-which', '1.09.1939', 'tashkent1', 'comfortable', '“”the', '74%', 'blistering', '174', 'akshay']\n",
      "['projection', 'lohagarh', 'kern', 'bindings', 'beheaded', 'brain', 'aranyakas', '54.”)', 'myth', 'effect.increased']\n",
      "['shelved', 'allotments', 'group:', 'enjoyable', 'limpyataran', 'bishop', 'huri', 'pronouncing', 'newborn', 'changez']\n",
      "['war', 'vatsiyan', 'destitution', \"sage's\", 'mahishamardini', '(47%', 'bee-stung', 'aharites', 'excitation', 'makers']\n",
      "['1902)', 'reaping', 'essence', 'financialy', 'breathing', 'inning', 'rangoon', 'j.v', \"huygens's\", 'commemorating']\n"
     ]
    }
   ],
   "source": [
    "for i in range(10,20):\n",
    "    print(list1[i*10:i*10+10])"
   ]
  },
  {
   "cell_type": "code",
   "execution_count": 14,
   "metadata": {},
   "outputs": [],
   "source": [
    "vocab_size = 15000\n",
    "sequence_length = 50\n",
    "batch_size = 64"
   ]
  },
  {
   "cell_type": "code",
   "execution_count": 15,
   "metadata": {},
   "outputs": [],
   "source": [
    "# vectorization\n",
    "eng_vectorization = tf.keras.layers.TextVectorization(\n",
    "    max_tokens = vocab_size,\n",
    "    output_mode = \"int\",\n",
    "    output_sequence_length = sequence_length,\n",
    "    standardize=tf_lower_and_split_punct\n",
    ")\n",
    "\n",
    "hin_vectorization = tf.keras.layers.TextVectorization(\n",
    "    max_tokens = vocab_size,\n",
    "    output_mode = \"int\",\n",
    "    output_sequence_length = sequence_length+1,\n",
    "    standardize=tf_lower_and_split_punct_1\n",
    ")\n",
    "\n",
    "train_eng_texts = [pair[0] for pair in train_pairs]\n",
    "train_hin_texts = [pair[1] for pair in train_pairs]\n",
    "\n",
    "eng_vectorization.adapt(train_eng_texts)\n",
    "hin_vectorization.adapt(train_hin_texts)"
   ]
  },
  {
   "cell_type": "code",
   "execution_count": 16,
   "metadata": {},
   "outputs": [],
   "source": [
    "#save the vectorization layers\n",
    "\n",
    "eng_vocab = eng_vectorization.get_vocabulary()\n",
    "    \n",
    "with open('text_vectorization_files/english_vocab_for_eng_hin.json', 'w', encoding='utf-8') as f:\n",
    "    json.dump(eng_vocab, f)\n",
    "    \n",
    "hin_vocab = hin_vectorization.get_vocabulary()\n",
    "    \n",
    "with open('text_vectorization_files/hindi_vocab_for_eng_hin.json', 'w', encoding='utf-8') as f:\n",
    "    json.dump(hin_vocab, f)\n",
    "    "
   ]
  },
  {
   "cell_type": "code",
   "execution_count": 17,
   "metadata": {},
   "outputs": [
    {
     "name": "stdout",
     "output_type": "stream",
     "text": [
      "15000\n",
      "15000\n",
      "['', '[UNK]', 'the', '[SOS]', '[EOS]', ',', '.', 'of', 'and', 'in', 'to', 'a', 'is', 'that', 'for', 'was', 'it', 'as', 'by', 'on']\n",
      "['', '[UNK]', '[SOS]', '[EOS]', 'के', 'में', 'है', 'की', ',', 'और', 'से', 'का', 'को', 'हैं', 'पर', 'एक', 'कि', 'भी', 'यह', 'लिए']\n"
     ]
    }
   ],
   "source": [
    "print(len(eng_vocab))\n",
    "print(len(hin_vocab))\n",
    "print(eng_vocab[:20])\n",
    "print(hin_vocab[:20])"
   ]
  },
  {
   "cell_type": "code",
   "execution_count": 18,
   "metadata": {},
   "outputs": [
    {
     "data": {
      "text/plain": [
       "4614"
      ]
     },
     "execution_count": 18,
     "metadata": {},
     "output_type": "execute_result"
    }
   ],
   "source": [
    "list1 = [x for x in eng_vocab if len(x)==10]\n",
    "len(list1)"
   ]
  },
  {
   "cell_type": "code",
   "execution_count": 19,
   "metadata": {},
   "outputs": [],
   "source": [
    "def format_dataset(eng, spa):\n",
    "    eng = eng_vectorization(eng)\n",
    "    hin = hin_vectorization(spa)\n",
    "    return (\n",
    "        {\n",
    "            \"encoder_inputs\": eng,\n",
    "            \"decoder_inputs\": hin[:, :-1],\n",
    "        },\n",
    "        hin[:, 1:],\n",
    "    )\n",
    "    \n",
    "def make_dataset(pairs):\n",
    "    eng_texts, hin_texts = zip(*pairs)\n",
    "    eng_texts = list(eng_texts)\n",
    "    hin_texts = list(hin_texts)\n",
    "    dataset = tf.data.Dataset.from_tensor_slices((eng_texts, hin_texts))\n",
    "    dataset = dataset.batch(batch_size)\n",
    "    dataset = dataset.map(format_dataset)\n",
    "    return dataset.cache().shuffle(2048).prefetch(16)\n",
    "\n",
    "train_ds = make_dataset(train_pairs)\n",
    "val_ds = make_dataset(val_pairs)\n",
    "# test_ds = make_dataset(test_pairs)"
   ]
  },
  {
   "cell_type": "code",
   "execution_count": 20,
   "metadata": {},
   "outputs": [
    {
     "name": "stdout",
     "output_type": "stream",
     "text": [
      "tf.Tensor(\n",
      "[[    3     8    98    42    55  3634  4527  2940    84     8  4001  4514\n",
      "      9   974     8  1376   443     8   194     9  1175    22     2   494\n",
      "      8     2   774     6     4     0     0     0     0     0     0     0\n",
      "      0     0     0     0     0     0     0     0     0     0     0     0\n",
      "      0     0]\n",
      " [    3     9 13299     5   298    89   142  1435     6     4     0     0\n",
      "      0     0     0     0     0     0     0     0     0     0     0     0\n",
      "      0     0     0     0     0     0     0     0     0     0     0     0\n",
      "      0     0     0     0     0     0     0     0     0     0     0     0\n",
      "      0     0]], shape=(2, 50), dtype=int64)\n",
      "tf.Tensor(\n",
      "[[    2  1517     9  1776     5   106     7     1     1     1     9    95\n",
      "    664     9 11476     4    41  6747    27 11168  3912     3     0     0\n",
      "      0     0     0     0     0     0     0     0     0     0     0     0\n",
      "      0     0     0     0     0     0     0     0     0     0     0     0\n",
      "      0     0]\n",
      " [    2     1     5    18   529   209   231    10    17    86     6     3\n",
      "      0     0     0     0     0     0     0     0     0     0     0     0\n",
      "      0     0     0     0     0     0     0     0     0     0     0     0\n",
      "      0     0     0     0     0     0     0     0     0     0     0     0\n",
      "      0     0]], shape=(2, 50), dtype=int64)\n",
      "tf.Tensor(\n",
      "[[ 1517     9  1776     5   106     7     1     1     1     9    95   664\n",
      "      9 11476     4    41  6747    27 11168  3912     3     0     0     0\n",
      "      0     0     0     0     0     0     0     0     0     0     0     0\n",
      "      0     0     0     0     0     0     0     0     0     0     0     0\n",
      "      0     0]\n",
      " [    1     5    18   529   209   231    10    17    86     6     3     0\n",
      "      0     0     0     0     0     0     0     0     0     0     0     0\n",
      "      0     0     0     0     0     0     0     0     0     0     0     0\n",
      "      0     0     0     0     0     0     0     0     0     0     0     0\n",
      "      0     0]], shape=(2, 50), dtype=int64)\n"
     ]
    }
   ],
   "source": [
    "for inp,tar in train_ds.take(1):\n",
    "    print(inp['encoder_inputs'][:2])\n",
    "    print(inp['decoder_inputs'][:2])\n",
    "    print(tar[:2])"
   ]
  },
  {
   "cell_type": "code",
   "execution_count": 21,
   "metadata": {},
   "outputs": [],
   "source": [
    "vocab_size = 15000\n",
    "units_1 = 128"
   ]
  },
  {
   "cell_type": "code",
   "execution_count": 22,
   "metadata": {},
   "outputs": [],
   "source": [
    "class TransformerEncoder(tf.keras.layers.Layer):\n",
    "    def __init__(self,embed_dim,dense_dim,num_heads,**kwargs):\n",
    "        super().__init__(**kwargs)\n",
    "\n",
    "        self.num_heads = num_heads\n",
    "        self.embed_dim = embed_dim\n",
    "        self.dense_dim = dense_dim\n",
    "\n",
    "        self.mha = tf.keras.layers.MultiHeadAttention(\n",
    "            num_heads=num_heads,\n",
    "            key_dim = embed_dim\n",
    "        )\n",
    "        self.dense_proj = tf.keras.Sequential(\n",
    "            [\n",
    "                tf.keras.layers.Dense(dense_dim,activation = 'relu'),\n",
    "                tf.keras.layers.Dense(embed_dim)\n",
    "            ]\n",
    "        )\n",
    "        self.layernorm_1 = tf.keras.layers.LayerNormalization()\n",
    "        self.layernorm_2 = tf.keras.layers.LayerNormalization()\n",
    "        self.supports_masking = True\n",
    "\n",
    "    def call(self,inputs,mask = None):\n",
    "        if mask is not None:\n",
    "            padding_mask = tf.cast(mask[:,None,:],dtype = tf.int32)\n",
    "        else:\n",
    "            padding_mask = None\n",
    "        attention_output = self.mha(\n",
    "            query = inputs,\n",
    "            value = inputs,\n",
    "            key = inputs,\n",
    "            attention_mask = padding_mask\n",
    "        )\n",
    "        proj_input = self.layernorm_1(attention_output+inputs)\n",
    "        proj_output = self.dense_proj(proj_input)\n",
    "        output = self.layernorm_2(proj_input + proj_output)\n",
    "        return output\n",
    "    \n",
    "    def get_config(self):\n",
    "        config = super().get_config()\n",
    "        config.update({\n",
    "            'embed_dim':self.embed_dim,\n",
    "            'dense_dim':self.dense_dim,\n",
    "            'num_heads': self.num_heads,\n",
    "        })\n",
    "        return config"
   ]
  },
  {
   "cell_type": "code",
   "execution_count": 23,
   "metadata": {},
   "outputs": [],
   "source": [
    "class PositionalEmbedding(tf.keras.layers.Layer):\n",
    "    def __init__(self,sequence_length,vocab_size,embed_dim,**kwargs):\n",
    "        super().__init__(**kwargs)\n",
    "\n",
    "        self.embed_dim = embed_dim\n",
    "        self.vocab_size = vocab_size\n",
    "        self.sequence_length = sequence_length\n",
    "        \n",
    "        self.token_embeddings = tf.keras.layers.Embedding(\n",
    "            input_dim = vocab_size,\n",
    "            output_dim  = embed_dim\n",
    "        )\n",
    "\n",
    "        self.position_embeddings = tf.keras.layers.Embedding(\n",
    "            input_dim = sequence_length,\n",
    "            output_dim = embed_dim\n",
    "        )\n",
    "\n",
    "    def call(self,inputs):\n",
    "        length = tf.shape(inputs)[-1]\n",
    "        positions = tf.range(start = 0,limit = length,delta =1)\n",
    "        embeded_tokens = self.token_embeddings(inputs)\n",
    "        embeded_position = self.position_embeddings(positions)\n",
    "        return embeded_tokens + embeded_position\n",
    "    \n",
    "    def compute_mask(self,inputs,mask =None):\n",
    "        if mask is not None:\n",
    "            return tf.not_equal(inputs,0)\n",
    "        else:\n",
    "            return None\n",
    "    def get_config(self):\n",
    "        config = super().get_config()\n",
    "        config.update({\n",
    "            'vocab_size': self.vocab_size,\n",
    "            'sequence_length': self.sequence_length,\n",
    "            'embed_dim': self.embed_dim,\n",
    "        })\n",
    "        return config"
   ]
  },
  {
   "cell_type": "code",
   "execution_count": 24,
   "metadata": {},
   "outputs": [],
   "source": [
    "class TransformerDecoder(tf.keras.layers.Layer):\n",
    "    def __init__(self,embed_dim,latent_dim,num_heads,**kwargs):\n",
    "        super().__init__(**kwargs)\n",
    "\n",
    "        self.embed_dim = embed_dim\n",
    "        self.latent_dim = latent_dim\n",
    "        self.num_heads = num_heads\n",
    "\n",
    "        self.mha1 = tf.keras.layers.MultiHeadAttention(num_heads=num_heads,key_dim=embed_dim)\n",
    "        self.mha2 = tf.keras.layers.MultiHeadAttention(num_heads = num_heads,key_dim=embed_dim)\n",
    "\n",
    "        self.dense_proj = tf.keras.Sequential(\n",
    "            [\n",
    "                tf.keras.layers.Dense(latent_dim,activation = 'relu'),\n",
    "                tf.keras.layers.Dense(embed_dim),\n",
    "            ]\n",
    "        )\n",
    "        self.layernorm_1 = tf.keras.layers.LayerNormalization()\n",
    "        self.layernorm_2 = tf.keras.layers.LayerNormalization()\n",
    "        self.layernorm_3 = tf.keras.layers.LayerNormalization()\n",
    "        self.supports_masking = True\n",
    "\n",
    "    def call(self,inputs,encoder_outputs,mask=None):\n",
    "        casual_mask = self.get_casual_attention_mask(inputs)\n",
    "        if mask is not None:\n",
    "            padding_mask = tf.cast(mask[:,None,:],dtype = tf.int32)\n",
    "            padding_mask = tf.minimum(padding_mask,casual_mask)\n",
    "        else:\n",
    "            padding_mask = None\n",
    "\n",
    "        attention_output1 = self.mha1(\n",
    "            query = inputs,\n",
    "            value = inputs,\n",
    "            key = inputs,\n",
    "            attention_mask = casual_mask\n",
    "        )\n",
    "\n",
    "        out_1 = self.layernorm_1(inputs + attention_output1)\n",
    "\n",
    "        attention_output2 = self.mha2(\n",
    "            query = out_1,\n",
    "            value = encoder_outputs,\n",
    "            key = encoder_outputs,\n",
    "            attention_mask = padding_mask,\n",
    "        )\n",
    "\n",
    "        out_2 = self.layernorm_2(out_1 + attention_output2)\n",
    "        proj_output = self.dense_proj(out_2)\n",
    "        output = self.layernorm_3(proj_output + out_2)\n",
    "\n",
    "        return output\n",
    "    \n",
    "    def get_casual_attention_mask(self,inputs):\n",
    "        input_shape = tf.shape(inputs)\n",
    "        batch_size,sequence_length = input_shape[0],input_shape[1]\n",
    "        i = tf.range(sequence_length)[:,None]\n",
    "        j = tf.range(sequence_length)\n",
    "        mask = tf.cast(i>=j,tf.int32)\n",
    "        mask = tf.reshape(mask,(1,input_shape[1],input_shape[1]))\n",
    "        mult = tf.concat(\n",
    "            [\n",
    "                tf.expand_dims(batch_size,-1),\n",
    "                tf.convert_to_tensor([1,1]),\n",
    "            ],\n",
    "            axis =0,\n",
    "        )\n",
    "        return tf.tile(mask,mult)\n",
    "    \n",
    "\n",
    "    def get_config(self):\n",
    "        config = super().get_config()\n",
    "        config.update({\n",
    "            'embed_dim': self.embed_dim,\n",
    "            'latent_dim': self.latent_dim,\n",
    "            'num_heads': self.num_heads\n",
    "        })\n",
    "        return config\n"
   ]
  },
  {
   "cell_type": "code",
   "execution_count": 25,
   "metadata": {},
   "outputs": [
    {
     "data": {
      "text/plain": [
       "<tf.Tensor: shape=(20,), dtype=int32, numpy=\n",
       "array([ 0,  1,  2,  3,  4,  5,  6,  7,  8,  9, 10, 11, 12, 13, 14, 15, 16,\n",
       "       17, 18, 19])>"
      ]
     },
     "execution_count": 25,
     "metadata": {},
     "output_type": "execute_result"
    }
   ],
   "source": [
    "tf.range(0,20,delta = 1)"
   ]
  },
  {
   "cell_type": "code",
   "execution_count": 30,
   "metadata": {},
   "outputs": [],
   "source": [
    "# define emmbedding dimensions, latent dimensions, and number of heads\n",
    "embed_dim = 100\n",
    "latent_dim = 256\n",
    "num_heads = 2\n",
    "\n",
    "#Encoder\n",
    "encoder_inputs = tf.keras.Input(shape = (None,), dtype = \"int64\", name = \"encoder_inputs\")\n",
    "\n",
    "x = PositionalEmbedding(sequence_length, vocab_size, embed_dim)(encoder_inputs)\n",
    "\n",
    "encoder_outputs = TransformerEncoder(embed_dim, latent_dim, num_heads)(x)\n",
    "\n",
    "encoder = tf.keras.Model(encoder_inputs, encoder_outputs, name = \"encoder\")\n",
    "\n",
    "#Decoder\n",
    "decoder_inputs = tf.keras.Input(shape = (None,), dtype = \"int64\", name = \"decoder_inputs\")\n",
    "encoder_seq_inputs = tf.keras.Input(shape = (None, embed_dim), name = \"encoder_seq_inputs\")\n",
    "\n",
    "x = PositionalEmbedding(sequence_length, vocab_size, embed_dim)(decoder_inputs)\n",
    "\n",
    "x = TransformerDecoder(embed_dim, latent_dim, num_heads)(x, encoder_seq_inputs)\n",
    "\n",
    "x = tf.keras.layers.Dropout(0.5)(x)\n",
    "\n",
    "decoder_outputs = tf.keras.layers.Dense(vocab_size, activation = tf.nn.log_softmax)(x)\n",
    "\n",
    "decoder = tf.keras.Model([decoder_inputs, encoder_seq_inputs], decoder_outputs, name = \"decoder\")\n",
    "\n",
    "# Define the final model\n",
    "decoder_outputs = decoder([decoder_inputs, encoder_outputs])\n",
    "\n",
    "transformer = tf.keras.Model(\n",
    "    [encoder_inputs, decoder_inputs], decoder_outputs, name = \"transformer\"\n",
    ")\n"
   ]
  },
  {
   "cell_type": "code",
   "execution_count": 31,
   "metadata": {},
   "outputs": [],
   "source": [
    "logits =transformer((inp['encoder_inputs'],inp['decoder_inputs']))"
   ]
  },
  {
   "cell_type": "code",
   "execution_count": 32,
   "metadata": {},
   "outputs": [
    {
     "data": {
      "text/html": [
       "<pre style=\"white-space:pre;overflow-x:auto;line-height:normal;font-family:Menlo,'DejaVu Sans Mono',consolas,'Courier New',monospace\"><span style=\"font-weight: bold\">Model: \"transformer\"</span>\n",
       "</pre>\n"
      ],
      "text/plain": [
       "\u001b[1mModel: \"transformer\"\u001b[0m\n"
      ]
     },
     "metadata": {},
     "output_type": "display_data"
    },
    {
     "data": {
      "text/html": [
       "<pre style=\"white-space:pre;overflow-x:auto;line-height:normal;font-family:Menlo,'DejaVu Sans Mono',consolas,'Courier New',monospace\">┏━━━━━━━━━━━━━━━━━━━━━┳━━━━━━━━━━━━━━━━━━━┳━━━━━━━━━━━━┳━━━━━━━━━━━━━━━━━━━┓\n",
       "┃<span style=\"font-weight: bold\"> Layer (type)        </span>┃<span style=\"font-weight: bold\"> Output Shape      </span>┃<span style=\"font-weight: bold\">    Param # </span>┃<span style=\"font-weight: bold\"> Connected to      </span>┃\n",
       "┡━━━━━━━━━━━━━━━━━━━━━╇━━━━━━━━━━━━━━━━━━━╇━━━━━━━━━━━━╇━━━━━━━━━━━━━━━━━━━┩\n",
       "│ encoder_inputs      │ (<span style=\"color: #00d7ff; text-decoration-color: #00d7ff\">None</span>, <span style=\"color: #00d7ff; text-decoration-color: #00d7ff\">None</span>)      │          <span style=\"color: #00af00; text-decoration-color: #00af00\">0</span> │ -                 │\n",
       "│ (<span style=\"color: #0087ff; text-decoration-color: #0087ff\">InputLayer</span>)        │                   │            │                   │\n",
       "├─────────────────────┼───────────────────┼────────────┼───────────────────┤\n",
       "│ positional_embeddi… │ (<span style=\"color: #00d7ff; text-decoration-color: #00d7ff\">None</span>, <span style=\"color: #00d7ff; text-decoration-color: #00d7ff\">None</span>, <span style=\"color: #00af00; text-decoration-color: #00af00\">100</span>) │  <span style=\"color: #00af00; text-decoration-color: #00af00\">1,505,000</span> │ encoder_inputs[<span style=\"color: #00af00; text-decoration-color: #00af00\">0</span>… │\n",
       "│ (<span style=\"color: #0087ff; text-decoration-color: #0087ff\">PositionalEmbeddi…</span> │                   │            │                   │\n",
       "├─────────────────────┼───────────────────┼────────────┼───────────────────┤\n",
       "│ decoder_inputs      │ (<span style=\"color: #00d7ff; text-decoration-color: #00d7ff\">None</span>, <span style=\"color: #00d7ff; text-decoration-color: #00d7ff\">None</span>)      │          <span style=\"color: #00af00; text-decoration-color: #00af00\">0</span> │ -                 │\n",
       "│ (<span style=\"color: #0087ff; text-decoration-color: #0087ff\">InputLayer</span>)        │                   │            │                   │\n",
       "├─────────────────────┼───────────────────┼────────────┼───────────────────┤\n",
       "│ transformer_encode… │ (<span style=\"color: #00d7ff; text-decoration-color: #00d7ff\">None</span>, <span style=\"color: #00d7ff; text-decoration-color: #00d7ff\">None</span>, <span style=\"color: #00af00; text-decoration-color: #00af00\">100</span>) │    <span style=\"color: #00af00; text-decoration-color: #00af00\">132,656</span> │ positional_embed… │\n",
       "│ (<span style=\"color: #0087ff; text-decoration-color: #0087ff\">TransformerEncode…</span> │                   │            │                   │\n",
       "├─────────────────────┼───────────────────┼────────────┼───────────────────┤\n",
       "│ decoder             │ (<span style=\"color: #00d7ff; text-decoration-color: #00d7ff\">None</span>, <span style=\"color: #00d7ff; text-decoration-color: #00d7ff\">None</span>,      │  <span style=\"color: #00af00; text-decoration-color: #00af00\">3,233,556</span> │ decoder_inputs[<span style=\"color: #00af00; text-decoration-color: #00af00\">0</span>… │\n",
       "│ (<span style=\"color: #0087ff; text-decoration-color: #0087ff\">Functional</span>)        │ <span style=\"color: #00af00; text-decoration-color: #00af00\">15000</span>)            │            │ transformer_enco… │\n",
       "└─────────────────────┴───────────────────┴────────────┴───────────────────┘\n",
       "</pre>\n"
      ],
      "text/plain": [
       "┏━━━━━━━━━━━━━━━━━━━━━┳━━━━━━━━━━━━━━━━━━━┳━━━━━━━━━━━━┳━━━━━━━━━━━━━━━━━━━┓\n",
       "┃\u001b[1m \u001b[0m\u001b[1mLayer (type)       \u001b[0m\u001b[1m \u001b[0m┃\u001b[1m \u001b[0m\u001b[1mOutput Shape     \u001b[0m\u001b[1m \u001b[0m┃\u001b[1m \u001b[0m\u001b[1m   Param #\u001b[0m\u001b[1m \u001b[0m┃\u001b[1m \u001b[0m\u001b[1mConnected to     \u001b[0m\u001b[1m \u001b[0m┃\n",
       "┡━━━━━━━━━━━━━━━━━━━━━╇━━━━━━━━━━━━━━━━━━━╇━━━━━━━━━━━━╇━━━━━━━━━━━━━━━━━━━┩\n",
       "│ encoder_inputs      │ (\u001b[38;5;45mNone\u001b[0m, \u001b[38;5;45mNone\u001b[0m)      │          \u001b[38;5;34m0\u001b[0m │ -                 │\n",
       "│ (\u001b[38;5;33mInputLayer\u001b[0m)        │                   │            │                   │\n",
       "├─────────────────────┼───────────────────┼────────────┼───────────────────┤\n",
       "│ positional_embeddi… │ (\u001b[38;5;45mNone\u001b[0m, \u001b[38;5;45mNone\u001b[0m, \u001b[38;5;34m100\u001b[0m) │  \u001b[38;5;34m1,505,000\u001b[0m │ encoder_inputs[\u001b[38;5;34m0\u001b[0m… │\n",
       "│ (\u001b[38;5;33mPositionalEmbeddi…\u001b[0m │                   │            │                   │\n",
       "├─────────────────────┼───────────────────┼────────────┼───────────────────┤\n",
       "│ decoder_inputs      │ (\u001b[38;5;45mNone\u001b[0m, \u001b[38;5;45mNone\u001b[0m)      │          \u001b[38;5;34m0\u001b[0m │ -                 │\n",
       "│ (\u001b[38;5;33mInputLayer\u001b[0m)        │                   │            │                   │\n",
       "├─────────────────────┼───────────────────┼────────────┼───────────────────┤\n",
       "│ transformer_encode… │ (\u001b[38;5;45mNone\u001b[0m, \u001b[38;5;45mNone\u001b[0m, \u001b[38;5;34m100\u001b[0m) │    \u001b[38;5;34m132,656\u001b[0m │ positional_embed… │\n",
       "│ (\u001b[38;5;33mTransformerEncode…\u001b[0m │                   │            │                   │\n",
       "├─────────────────────┼───────────────────┼────────────┼───────────────────┤\n",
       "│ decoder             │ (\u001b[38;5;45mNone\u001b[0m, \u001b[38;5;45mNone\u001b[0m,      │  \u001b[38;5;34m3,233,556\u001b[0m │ decoder_inputs[\u001b[38;5;34m0\u001b[0m… │\n",
       "│ (\u001b[38;5;33mFunctional\u001b[0m)        │ \u001b[38;5;34m15000\u001b[0m)            │            │ transformer_enco… │\n",
       "└─────────────────────┴───────────────────┴────────────┴───────────────────┘\n"
      ]
     },
     "metadata": {},
     "output_type": "display_data"
    },
    {
     "data": {
      "text/html": [
       "<pre style=\"white-space:pre;overflow-x:auto;line-height:normal;font-family:Menlo,'DejaVu Sans Mono',consolas,'Courier New',monospace\"><span style=\"font-weight: bold\"> Total params: </span><span style=\"color: #00af00; text-decoration-color: #00af00\">4,871,212</span> (18.58 MB)\n",
       "</pre>\n"
      ],
      "text/plain": [
       "\u001b[1m Total params: \u001b[0m\u001b[38;5;34m4,871,212\u001b[0m (18.58 MB)\n"
      ]
     },
     "metadata": {},
     "output_type": "display_data"
    },
    {
     "data": {
      "text/html": [
       "<pre style=\"white-space:pre;overflow-x:auto;line-height:normal;font-family:Menlo,'DejaVu Sans Mono',consolas,'Courier New',monospace\"><span style=\"font-weight: bold\"> Trainable params: </span><span style=\"color: #00af00; text-decoration-color: #00af00\">4,871,212</span> (18.58 MB)\n",
       "</pre>\n"
      ],
      "text/plain": [
       "\u001b[1m Trainable params: \u001b[0m\u001b[38;5;34m4,871,212\u001b[0m (18.58 MB)\n"
      ]
     },
     "metadata": {},
     "output_type": "display_data"
    },
    {
     "data": {
      "text/html": [
       "<pre style=\"white-space:pre;overflow-x:auto;line-height:normal;font-family:Menlo,'DejaVu Sans Mono',consolas,'Courier New',monospace\"><span style=\"font-weight: bold\"> Non-trainable params: </span><span style=\"color: #00af00; text-decoration-color: #00af00\">0</span> (0.00 B)\n",
       "</pre>\n"
      ],
      "text/plain": [
       "\u001b[1m Non-trainable params: \u001b[0m\u001b[38;5;34m0\u001b[0m (0.00 B)\n"
      ]
     },
     "metadata": {},
     "output_type": "display_data"
    }
   ],
   "source": [
    "epochs = 1\n",
    "losses = tf.keras.losses.SparseCategoricalCrossentropy(from_logits=True)\n",
    "transformer.summary()\n",
    "\n",
    "transformer.compile(\n",
    "    \"adam\", loss = losses, metrics = [\"accuracy\"]\n",
    ")\n",
    "# transformer.fit(train_ds, epochs = epochs, validation_data = val_ds)\n"
   ]
  },
  {
   "cell_type": "code",
   "execution_count": 33,
   "metadata": {},
   "outputs": [],
   "source": [
    "transformer.load_weights('model_weights/english_hindi_model.weights.h5')"
   ]
  },
  {
   "cell_type": "code",
   "execution_count": 34,
   "metadata": {},
   "outputs": [],
   "source": [
    "my_df = pd.read_csv('data/english_hindi_10_letter.csv',index_col=0)"
   ]
  },
  {
   "cell_type": "code",
   "execution_count": 35,
   "metadata": {},
   "outputs": [
    {
     "data": {
      "text/html": [
       "<div>\n",
       "<style scoped>\n",
       "    .dataframe tbody tr th:only-of-type {\n",
       "        vertical-align: middle;\n",
       "    }\n",
       "\n",
       "    .dataframe tbody tr th {\n",
       "        vertical-align: top;\n",
       "    }\n",
       "\n",
       "    .dataframe thead th {\n",
       "        text-align: right;\n",
       "    }\n",
       "</style>\n",
       "<table border=\"1\" class=\"dataframe\">\n",
       "  <thead>\n",
       "    <tr style=\"text-align: right;\">\n",
       "      <th></th>\n",
       "      <th>English</th>\n",
       "      <th>Hindi</th>\n",
       "    </tr>\n",
       "  </thead>\n",
       "  <tbody>\n",
       "    <tr>\n",
       "      <th>0</th>\n",
       "      <td>unlettered voluminous</td>\n",
       "      <td>अपढ़ मोटा</td>\n",
       "    </tr>\n",
       "    <tr>\n",
       "      <th>1</th>\n",
       "      <td>bheemghoda watermills</td>\n",
       "      <td>भीमघोड़ा पनचक्कियों</td>\n",
       "    </tr>\n",
       "    <tr>\n",
       "      <th>2</th>\n",
       "      <td>kalyanathe</td>\n",
       "      <td>कल्याणथे</td>\n",
       "    </tr>\n",
       "    <tr>\n",
       "      <th>3</th>\n",
       "      <td>patronized unaccepted</td>\n",
       "      <td>को संरक्षण अस्वीकृत</td>\n",
       "    </tr>\n",
       "    <tr>\n",
       "      <th>4</th>\n",
       "      <td>gothakhoor</td>\n",
       "      <td>गोथाखूर</td>\n",
       "    </tr>\n",
       "  </tbody>\n",
       "</table>\n",
       "</div>"
      ],
      "text/plain": [
       "                 English                Hindi\n",
       "0  unlettered voluminous            अपढ़ मोटा\n",
       "1  bheemghoda watermills  भीमघोड़ा पनचक्कियों\n",
       "2             kalyanathe             कल्याणथे\n",
       "3  patronized unaccepted  को संरक्षण अस्वीकृत\n",
       "4             gothakhoor              गोथाखूर"
      ]
     },
     "execution_count": 35,
     "metadata": {},
     "output_type": "execute_result"
    }
   ],
   "source": [
    "my_df.head()"
   ]
  },
  {
   "cell_type": "code",
   "execution_count": 36,
   "metadata": {},
   "outputs": [
    {
     "data": {
      "text/plain": [
       "[('unlettered voluminous', 'अपढ़ मोटा'),\n",
       " ('bheemghoda watermills', 'भीमघोड़ा पनचक्कियों'),\n",
       " ('kalyanathe', 'कल्याणथे'),\n",
       " ('patronized unaccepted', 'को संरक्षण अस्वीकृत'),\n",
       " ('gothakhoor', 'गोथाखूर')]"
      ]
     },
     "execution_count": 36,
     "metadata": {},
     "output_type": "execute_result"
    }
   ],
   "source": [
    "test_pairs = list(zip(my_df['English'],my_df['Hindi']))\n",
    "test_pairs[:5]"
   ]
  },
  {
   "cell_type": "code",
   "execution_count": 37,
   "metadata": {},
   "outputs": [
    {
     "name": "stdout",
     "output_type": "stream",
     "text": [
      "input: pollinated maashelkar\n",
      "correct_translation: परागण माशेलकर\n",
      "translated: [SOS] परागण माशेलकर [EOS]\n",
      "\n",
      "input: viewpoints\n",
      "correct_translation: दृष्टिकोण\n",
      "translated: [SOS] दृष्टिकोण [EOS]\n",
      "\n",
      "input: resourcess\n",
      "correct_translation: संसाधन\n",
      "translated: [SOS] संसाधन [EOS]\n",
      "\n",
      "input: targetting\n",
      "correct_translation: लक्ष्यीकरण\n",
      "translated: [SOS] लक्ष्यीकरण [EOS]\n",
      "\n",
      "input: pratapgarh allahabaad\n",
      "correct_translation: प्रतापगढ़ इलाहाबाद\n",
      "translated: [SOS] प्रतापगढ़ इलाहाबाद [EOS]\n",
      "\n"
     ]
    }
   ],
   "source": [
    "hin_vocab = hin_vectorization.get_vocabulary()\n",
    "hin_index_lookup = dict(zip(range(len(hin_vocab)), hin_vocab))\n",
    "max_decoded_sentence_length = sequence_length\n",
    "\n",
    "def decode_sentence(input_sentence):\n",
    "    tokenized_input_sentence = eng_vectorization([input_sentence])\n",
    "    decoded_sentence = \"[SOS]\"\n",
    "    for i in range(max_decoded_sentence_length):\n",
    "        tokenized_target_sentence = hin_vectorization([decoded_sentence])[:, :-1]\n",
    "        predictions = transformer([tokenized_input_sentence, tokenized_target_sentence])\n",
    "        sampled_token_index = tf.argmax(predictions[0, i, :]).numpy().item(0)\n",
    "        sampled_token = hin_index_lookup[sampled_token_index]\n",
    "        decoded_sentence += \" \" + sampled_token\n",
    "        if sampled_token == \"[EOS]\":\n",
    "            break\n",
    "    return decoded_sentence\n",
    "\n",
    "my_list1 = []\n",
    "for _ in range(5):\n",
    "    input_sentence,output_sentence = random.choice(test_pairs)\n",
    "    my_list1.append(input_sentence)\n",
    "    input_sentence = input_sentence.lower()\n",
    "    translated = decode_sentence(input_sentence)\n",
    "    print(f\"input: {input_sentence}\")\n",
    "    print(f'correct_translation: {output_sentence}')\n",
    "    print(f\"translated: {translated}\")\n",
    "    print()"
   ]
  },
  {
   "cell_type": "code",
   "execution_count": 38,
   "metadata": {},
   "outputs": [],
   "source": [
    "#some elembents\n",
    "my_list = ['seamlessly', 'collection', 'deflection', 'remissions', 'articulate', 'terrrorist',\n",
    "            'catwalking', 'celebrated', 'bharatendu', 'mujahideen', 'mobilizing', 'interrupts', \n",
    "            'transpires', 'classmates', 'jahawarlal', 'evangelist', 'amusements', 'habituated', \n",
    "            'ascendancy', 'admiringly', 'currencies', 'enactments', 'contracted', 'switchover vaisheshik', \n",
    "            'assistance aparbrahma', 'undetected applicants', 'mistresses suchindram', 'recuperate prosecuted', \n",
    "            'deforested glorifying', 'inoculated pleasantly', 'thereafter revengeful humiliated', 'vibheeshan parushuram kurukhatra',\n",
    "            'dharmshala pakisthaan swapurusha','portuguese electicity shrotyagya',]"
   ]
  },
  {
   "cell_type": "code",
   "execution_count": 41,
   "metadata": {},
   "outputs": [
    {
     "name": "stdout",
     "output_type": "stream",
     "text": [
      "[SOS] जुटाने [EOS]\n",
      "[SOS] बीच में दो [EOS]\n",
      "[SOS] घटित होता है [EOS]\n",
      "[SOS] सहपाठियों [EOS]\n",
      "[SOS] जवाहरलाल [EOS]\n",
      "[SOS] इंजीलवादी [EOS]\n",
      "[SOS] एम्यूजमेंट [EOS]\n",
      "[SOS] आदी [EOS]\n",
      "[SOS] प्रभुत्व [EOS]\n",
      "[SOS] प्रशंसापूर्वक [EOS]\n"
     ]
    }
   ],
   "source": [
    "x=10\n",
    "for i in my_list[x:x+10]:\n",
    "    print(decode_sentence(i))"
   ]
  },
  {
   "cell_type": "code",
   "execution_count": null,
   "metadata": {},
   "outputs": [],
   "source": []
  }
 ],
 "metadata": {
  "kernelspec": {
   "display_name": "tensorflow",
   "language": "python",
   "name": "python3"
  },
  "language_info": {
   "codemirror_mode": {
    "name": "ipython",
    "version": 3
   },
   "file_extension": ".py",
   "mimetype": "text/x-python",
   "name": "python",
   "nbconvert_exporter": "python",
   "pygments_lexer": "ipython3",
   "version": "3.10.14"
  }
 },
 "nbformat": 4,
 "nbformat_minor": 2
}
